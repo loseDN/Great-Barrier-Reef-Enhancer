{
 "metadata": {
  "kernelspec": {
   "language": "python",
   "display_name": "Python 3",
   "name": "python3"
  },
  "language_info": {
   "name": "python",
   "version": "3.10.13",
   "mimetype": "text/x-python",
   "codemirror_mode": {
    "name": "ipython",
    "version": 3
   },
   "pygments_lexer": "ipython3",
   "nbconvert_exporter": "python",
   "file_extension": ".py"
  },
  "kaggle": {
   "accelerator": "gpu",
   "dataSources": [
    {
     "sourceId": 31703,
     "databundleVersionId": 2871752,
     "sourceType": "competition"
    },
    {
     "sourceId": 3141691,
     "sourceType": "datasetVersion",
     "datasetId": 1738872
    },
    {
     "sourceId": 8110798,
     "sourceType": "datasetVersion",
     "datasetId": 4791202
    }
   ],
   "dockerImageVersionId": 30683,
   "isInternetEnabled": true,
   "language": "python",
   "sourceType": "notebook",
   "isGpuEnabled": true
  }
 },
 "nbformat_minor": 4,
 "nbformat": 4,
 "cells": [
  {
   "cell_type": "code",
   "source": [
    "!pip install -qU wandb\n",
    "!pip install -qU bbox-utility \n",
    "!pip install -qU ultralytics"
   ],
   "metadata": {
    "_kg_hide-output": true,
    "_kg_hide-input": true,
    "execution": {
     "iopub.status.busy": "2025-08-18T09:31:38.380280Z",
     "iopub.execute_input": "2025-08-18T09:31:38.380513Z",
     "iopub.status.idle": "2025-08-18T09:32:12.368986Z",
     "shell.execute_reply.started": "2025-08-18T09:31:38.380484Z",
     "shell.execute_reply": "2025-08-18T09:32:12.367854Z"
    },
    "trusted": true
   },
   "outputs": [],
   "execution_count": null
  },
  {
   "cell_type": "code",
   "source": [
    "import numpy as np\n",
    "from tqdm.notebook import tqdm\n",
    "tqdm.pandas()\n",
    "import pandas as pd\n",
    "import os\n",
    "import cv2\n",
    "import matplotlib.pyplot as plt\n",
    "import matplotlib.image as mpimg\n",
    "import glob\n",
    "\n",
    "import shutil\n",
    "import sys\n",
    "sys.path.append('/input/tensorflow-great-barrier-reef')\n",
    "\n",
    "from joblib import Parallel, delayed\n",
    "\n",
    "from IPython.display import display, Video\n",
    "\n",
    "from ultralytics import YOLO\n",
    "\n",
    "import random\n",
    "import seaborn as sns"
   ],
   "metadata": {
    "_uuid": "8f2839f25d086af736a60e9eeb907d3b93b6e0e5",
    "_cell_guid": "b1076dfc-b9ad-4769-8c92-a6c4dae69d19",
    "execution": {
     "iopub.status.busy": "2025-08-18T09:32:42.127643Z",
     "iopub.execute_input": "2025-08-18T09:32:42.128002Z",
     "iopub.status.idle": "2025-08-18T09:32:49.238272Z",
     "shell.execute_reply.started": "2025-08-18T09:32:42.127969Z",
     "shell.execute_reply": "2025-08-18T09:32:49.237527Z"
    },
    "trusted": true
   },
   "outputs": [],
   "execution_count": null
  },
  {
   "cell_type": "code",
   "source": [
    "import wandb\n",
    "\n",
    "try:\n",
    "    from kaggle_secrets import UserSecretsClient\n",
    "    user_secrets = UserSecretsClient()\n",
    "    api_key = user_secrets.get_secret(\"WANDB\")\n",
    "    wandb.login(key=api_key)\n",
    "    anonymous = None\n",
    "except:\n",
    "    wandb.login(anonymous='must')\n",
    "    print('To use your W&B account,\\nGo to Add-ons -> Secrets and provide your W&B access token. Use the Label name as WANDB. \\nGet your W&B access token from here: https://wandb.ai/authorize')"
   ],
   "metadata": {
    "execution": {
     "iopub.status.busy": "2025-08-18T09:32:56.768823Z",
     "iopub.execute_input": "2025-08-18T09:32:56.769304Z",
     "iopub.status.idle": "2025-08-18T09:32:59.591229Z",
     "shell.execute_reply.started": "2025-08-18T09:32:56.769276Z",
     "shell.execute_reply": "2025-08-18T09:32:59.590423Z"
    },
    "trusted": true
   },
   "outputs": [],
   "execution_count": null
  },
  {
   "cell_type": "code",
   "source": [
    "FOLD      = 1 # which fold to train\n",
    "DIM       = 3000 \n",
    "MODEL     = 'yolov5s'\n",
    "BATCH     = 4\n",
    "EPOCHS    = 30\n",
    "OPTMIZER  = 'Adam'\n",
    "\n",
    "PROJECT   = 'great-barrier-reef' # w&b in yolov5\n",
    "NAME      = f'{MODEL}-dim{DIM}-fold{FOLD}' # w&b for yolov5\n",
    "\n",
    "REMOVE_NOBBOX = True # remove images with no bbox\n",
    "ROOT_DIR  = '/input/tensorflow-great-barrier-reef/'\n",
    "IMAGE_DIR = '/images' # directory to save images\n",
    "LABEL_DIR = '/labels' # directory to save labels"
   ],
   "metadata": {
    "execution": {
     "iopub.status.busy": "2025-08-18T09:34:23.455588Z",
     "iopub.execute_input": "2025-08-18T09:34:23.456093Z",
     "iopub.status.idle": "2025-08-18T09:34:23.461334Z",
     "shell.execute_reply.started": "2025-08-18T09:34:23.456057Z",
     "shell.execute_reply": "2025-08-18T09:34:23.460241Z"
    },
    "trusted": true
   },
   "outputs": [],
   "execution_count": null
  },
  {
   "cell_type": "code",
   "source": [
    "!mkdir -p {IMAGE_DIR}\n",
    "!mkdir -p {LABEL_DIR}"
   ],
   "metadata": {
    "execution": {
     "iopub.status.busy": "2025-08-18T09:34:28.095723Z",
     "iopub.execute_input": "2025-08-18T09:34:28.096314Z",
     "iopub.status.idle": "2025-08-18T09:34:30.189261Z",
     "shell.execute_reply.started": "2025-08-18T09:34:28.096274Z",
     "shell.execute_reply": "2025-08-18T09:34:30.188175Z"
    },
    "trusted": true
   },
   "outputs": [],
   "execution_count": null
  },
  {
   "cell_type": "code",
   "source": [
    "!mkdir -p {IMAGE_DIR}_test\n"
   ],
   "metadata": {
    "execution": {
     "iopub.status.busy": "2025-08-18T09:34:39.167096Z",
     "iopub.execute_input": "2025-08-18T09:34:39.168013Z",
     "iopub.status.idle": "2025-08-18T09:34:40.225666Z",
     "shell.execute_reply.started": "2025-08-18T09:34:39.167982Z",
     "shell.execute_reply": "2025-08-18T09:34:40.224552Z"
    },
    "trusted": true
   },
   "outputs": [],
   "execution_count": null
  },
  {
   "cell_type": "code",
   "source": [
    "# Train Data\n",
    "df = pd.read_csv(f'{ROOT_DIR}/train.csv')\n",
    "df['old_image_path'] = f'{ROOT_DIR}/train_images/video_'+df.video_id.astype(str)+'/'+df.video_frame.astype(str)+'.jpg'\n",
    "df['image_path']  = f'{IMAGE_DIR}/'+df.image_id+'.jpg'\n",
    "df['label_path']  = f'{LABEL_DIR}/'+df.image_id+'.txt'\n",
    "df['annotations'] = df['annotations'].progress_apply(eval)\n",
    "display(df.head(2))"
   ],
   "metadata": {
    "trusted": true,
    "execution": {
     "iopub.status.busy": "2025-08-18T09:35:01.496844Z",
     "iopub.execute_input": "2025-08-18T09:35:01.497894Z",
     "iopub.status.idle": "2025-08-18T09:35:01.886299Z",
     "shell.execute_reply.started": "2025-08-18T09:35:01.497862Z",
     "shell.execute_reply": "2025-08-18T09:35:01.885450Z"
    }
   },
   "outputs": [],
   "execution_count": null
  },
  {
   "cell_type": "code",
   "source": [
    "df['num_bbox'] = df['annotations'].progress_apply(lambda x: len(x))\n",
    "data = (df.num_bbox>0).value_counts(normalize=True)*100\n",
    "print(f\"No BBox: {data[0]:0.2f}% | With BBox: {data[1]:0.2f}%\")"
   ],
   "metadata": {
    "trusted": true,
    "execution": {
     "iopub.status.busy": "2025-08-18T09:35:22.872980Z",
     "iopub.execute_input": "2025-08-18T09:35:22.873882Z",
     "iopub.status.idle": "2025-08-18T09:35:22.933945Z",
     "shell.execute_reply.started": "2025-08-18T09:35:22.873854Z",
     "shell.execute_reply": "2025-08-18T09:35:22.933062Z"
    }
   },
   "outputs": [],
   "execution_count": null
  },
  {
   "cell_type": "code",
   "source": [
    "if REMOVE_NOBBOX:\n",
    "    df = df.query(\"num_bbox>0\")"
   ],
   "metadata": {
    "trusted": true,
    "execution": {
     "iopub.status.busy": "2025-08-18T09:35:36.137887Z",
     "iopub.execute_input": "2025-08-18T09:35:36.138689Z",
     "iopub.status.idle": "2025-08-18T09:35:36.156378Z",
     "shell.execute_reply.started": "2025-08-18T09:35:36.138660Z",
     "shell.execute_reply": "2025-08-18T09:35:36.155424Z"
    }
   },
   "outputs": [],
   "execution_count": null
  },
  {
   "cell_type": "code",
   "source": [
    "def make_copy(row):\n",
    "    shutil.copyfile(row.old_image_path, row.image_path)\n",
    "    return"
   ],
   "metadata": {
    "trusted": true,
    "execution": {
     "iopub.status.busy": "2025-08-18T09:35:45.986740Z",
     "iopub.execute_input": "2025-08-18T09:35:45.987357Z",
     "iopub.status.idle": "2025-08-18T09:35:45.991153Z",
     "shell.execute_reply.started": "2025-08-18T09:35:45.987330Z",
     "shell.execute_reply": "2025-08-18T09:35:45.990315Z"
    }
   },
   "outputs": [],
   "execution_count": null
  },
  {
   "cell_type": "code",
   "source": [
    "image_paths = df.old_image_path.tolist()\n",
    "_ = Parallel(n_jobs=-1, backend='threading')(delayed(make_copy)(row) for _, row in tqdm(df.iterrows(), total=len(df)))"
   ],
   "metadata": {
    "trusted": true,
    "execution": {
     "iopub.status.busy": "2025-08-18T09:35:55.512717Z",
     "iopub.execute_input": "2025-08-18T09:35:55.513500Z",
     "iopub.status.idle": "2025-08-18T09:36:13.239820Z",
     "shell.execute_reply.started": "2025-08-18T09:35:55.513473Z",
     "shell.execute_reply": "2025-08-18T09:36:13.239114Z"
    }
   },
   "outputs": [],
   "execution_count": null
  },
  {
   "cell_type": "code",
   "source": [
    "# check https://github.com/awsaf49/bbox for source code of following utility functions\n",
    "from bbox.utils import coco2yolo, coco2voc, voc2yolo\n",
    "from bbox.utils import draw_bboxes, load_image\n",
    "from bbox.utils import clip_bbox, str2annot, annot2str\n",
    "\n",
    "def get_bbox(annots):\n",
    "    bboxes = [list(annot.values()) for annot in annots]\n",
    "    return bboxes\n",
    "\n",
    "def get_imgsize(row):\n",
    "    row['width'], row['height'] = imagesize.get(row['image_path'])\n",
    "    return row\n",
    "\n",
    "np.random.seed(32)\n",
    "colors = [(np.random.randint(255), np.random.randint(255), np.random.randint(255))\\\n",
    "          for idx in range(1)]"
   ],
   "metadata": {
    "trusted": true,
    "execution": {
     "iopub.status.busy": "2025-08-18T09:36:13.241418Z",
     "iopub.execute_input": "2025-08-18T09:36:13.242053Z",
     "iopub.status.idle": "2025-08-18T09:36:14.161883Z",
     "shell.execute_reply.started": "2025-08-18T09:36:13.242023Z",
     "shell.execute_reply": "2025-08-18T09:36:14.161211Z"
    }
   },
   "outputs": [],
   "execution_count": null
  },
  {
   "cell_type": "code",
   "source": [
    "df['bboxes'] = df.annotations.progress_apply(get_bbox)\n",
    "df.head(2)"
   ],
   "metadata": {
    "trusted": true,
    "execution": {
     "iopub.status.busy": "2025-08-18T09:36:18.507082Z",
     "iopub.execute_input": "2025-08-18T09:36:18.507466Z",
     "iopub.status.idle": "2025-08-18T09:36:18.564505Z",
     "shell.execute_reply.started": "2025-08-18T09:36:18.507441Z",
     "shell.execute_reply": "2025-08-18T09:36:18.563534Z"
    }
   },
   "outputs": [],
   "execution_count": null
  },
  {
   "cell_type": "code",
   "source": [
    "df['width']  = 1280\n",
    "df['height'] = 720\n",
    "display(df.head(2))"
   ],
   "metadata": {
    "trusted": true,
    "execution": {
     "iopub.status.busy": "2025-08-18T09:36:34.433688Z",
     "iopub.execute_input": "2025-08-18T09:36:34.434154Z",
     "iopub.status.idle": "2025-08-18T09:36:34.449090Z",
     "shell.execute_reply.started": "2025-08-18T09:36:34.434128Z",
     "shell.execute_reply": "2025-08-18T09:36:34.448142Z"
    }
   },
   "outputs": [],
   "execution_count": null
  },
  {
   "cell_type": "code",
   "source": [
    "cnt = 0\n",
    "all_bboxes = []\n",
    "bboxes_info = []\n",
    "for row_idx in tqdm(range(df.shape[0])):\n",
    "    row = df.iloc[row_idx]\n",
    "    image_height = row.height\n",
    "    image_width  = row.width\n",
    "    bboxes_coco  = np.array(row.bboxes).astype(np.float32).copy()\n",
    "    num_bbox     = len(bboxes_coco)\n",
    "    names        = ['cots']*num_bbox\n",
    "    labels       = np.array([0]*num_bbox)[..., None].astype(str)\n",
    "    ## Create Annotation(YOLO)\n",
    "    with open(row.label_path, 'w') as f:\n",
    "        if num_bbox<1:\n",
    "            annot = ''\n",
    "            f.write(annot)\n",
    "            cnt+=1\n",
    "            continue\n",
    "        bboxes_voc  = coco2voc(bboxes_coco, image_height, image_width)\n",
    "        bboxes_voc  = clip_bbox(bboxes_voc, image_height, image_width)\n",
    "        bboxes_yolo = voc2yolo(bboxes_voc, image_height, image_width).astype(str)\n",
    "        all_bboxes.extend(bboxes_yolo.astype(float))\n",
    "        bboxes_info.extend([[row.image_id, row.video_id, row.sequence]]*len(bboxes_yolo))\n",
    "        annots = np.concatenate([labels, bboxes_yolo], axis=1)\n",
    "        string = annot2str(annots)\n",
    "        f.write(string)\n",
    "print('Missing:',cnt)"
   ],
   "metadata": {
    "trusted": true,
    "execution": {
     "iopub.status.busy": "2025-08-18T09:36:47.082746Z",
     "iopub.execute_input": "2025-08-18T09:36:47.083735Z",
     "iopub.status.idle": "2025-08-18T09:36:50.866565Z",
     "shell.execute_reply.started": "2025-08-18T09:36:47.083687Z",
     "shell.execute_reply": "2025-08-18T09:36:50.865599Z"
    }
   },
   "outputs": [],
   "execution_count": null
  },
  {
   "cell_type": "code",
   "source": [
    "from sklearn.model_selection import GroupKFold\n",
    "kf = GroupKFold(n_splits = 3)\n",
    "df = df.reset_index(drop=True)\n",
    "df['fold'] = -1\n",
    "for fold, (train_idx, val_idx) in enumerate(kf.split(df, groups=df.video_id.tolist())):\n",
    "    df.loc[val_idx, 'fold'] = fold\n",
    "display(df.fold.value_counts())"
   ],
   "metadata": {
    "trusted": true,
    "execution": {
     "iopub.status.busy": "2025-08-18T09:37:00.129748Z",
     "iopub.execute_input": "2025-08-18T09:37:00.130436Z",
     "iopub.status.idle": "2025-08-18T09:37:00.344922Z",
     "shell.execute_reply.started": "2025-08-18T09:37:00.130408Z",
     "shell.execute_reply": "2025-08-18T09:37:00.343990Z"
    }
   },
   "outputs": [],
   "execution_count": null
  },
  {
   "cell_type": "code",
   "source": [
    "bbox_df = pd.DataFrame(np.concatenate([bboxes_info, all_bboxes], axis=1),\n",
    "             columns=['image_id','video_id','sequence',\n",
    "                     'xmid','ymid','w','h'])\n",
    "bbox_df[['xmid','ymid','w','h']] = bbox_df[['xmid','ymid','w','h']].astype(float)\n",
    "bbox_df['area'] = bbox_df.w * bbox_df.h * 1280 * 720\n",
    "bbox_df = bbox_df.merge(df[['image_id','fold']], on='image_id', how='left')\n",
    "bbox_df.head(2)"
   ],
   "metadata": {
    "trusted": true,
    "execution": {
     "iopub.status.busy": "2025-08-18T09:37:09.922520Z",
     "iopub.execute_input": "2025-08-18T09:37:09.922851Z",
     "iopub.status.idle": "2025-08-18T09:37:10.038472Z",
     "shell.execute_reply.started": "2025-08-18T09:37:09.922827Z",
     "shell.execute_reply": "2025-08-18T09:37:10.037582Z"
    }
   },
   "outputs": [],
   "execution_count": null
  },
  {
   "cell_type": "code",
   "source": [
    "from scipy.stats import gaussian_kde\n",
    "\n",
    "all_bboxes = np.array(all_bboxes)\n",
    "\n",
    "x_val = all_bboxes[...,0]\n",
    "y_val = all_bboxes[...,1]\n",
    "\n",
    "# Calculate the point density\n",
    "xy = np.vstack([x_val,y_val])\n",
    "z = gaussian_kde(xy)(xy)\n",
    "\n",
    "fig, ax = plt.subplots(figsize = (10, 10))\n",
    "# ax.axis('off')\n",
    "ax.scatter(x_val, y_val, c=z, s=100, cmap='viridis')\n",
    "# ax.set_xlabel('x_mid')\n",
    "# ax.set_ylabel('y_mid')\n",
    "plt.show()"
   ],
   "metadata": {
    "trusted": true,
    "execution": {
     "iopub.status.busy": "2025-08-18T09:37:23.658348Z",
     "iopub.execute_input": "2025-08-18T09:37:23.659120Z",
     "iopub.status.idle": "2025-08-18T09:37:26.003002Z",
     "shell.execute_reply.started": "2025-08-18T09:37:23.659091Z",
     "shell.execute_reply": "2025-08-18T09:37:26.002141Z"
    }
   },
   "outputs": [],
   "execution_count": null
  },
  {
   "cell_type": "code",
   "source": [
    "x_val = all_bboxes[...,2]\n",
    "y_val = all_bboxes[...,3]\n",
    "\n",
    "# Calculate the point density\n",
    "xy = np.vstack([x_val,y_val])\n",
    "z = gaussian_kde(xy)(xy)\n",
    "\n",
    "fig, ax = plt.subplots(figsize = (10, 10))\n",
    "# ax.axis('off')\n",
    "ax.scatter(x_val, y_val, c=z, s=100, cmap='viridis')\n",
    "# ax.set_xlabel('bbox_width')\n",
    "# ax.set_ylabel('bbox_height')\n",
    "plt.show()"
   ],
   "metadata": {
    "trusted": true,
    "execution": {
     "iopub.status.busy": "2025-08-18T09:37:37.306911Z",
     "iopub.execute_input": "2025-08-18T09:37:37.307495Z",
     "iopub.status.idle": "2025-08-18T09:37:39.438990Z",
     "shell.execute_reply.started": "2025-08-18T09:37:37.307466Z",
     "shell.execute_reply": "2025-08-18T09:37:39.438076Z"
    }
   },
   "outputs": [],
   "execution_count": null
  },
  {
   "cell_type": "code",
   "source": [
    "import matplotlib as mpl\n",
    "import seaborn as sns\n",
    "\n",
    "f, ax = plt.subplots(figsize=(12, 6))\n",
    "sns.despine(f)\n",
    "\n",
    "sns.histplot(\n",
    "    bbox_df,\n",
    "    x=\"area\", hue=\"fold\",\n",
    "    multiple=\"stack\",\n",
    "    palette=\"viridis\",\n",
    "    edgecolor=\".3\",\n",
    "    linewidth=.5,\n",
    "    log_scale=True,\n",
    ")\n",
    "ax.xaxis.set_major_formatter(mpl.ticker.ScalarFormatter())\n",
    "ax.set_xticks([500, 1000, 2000, 5000, 10000]);"
   ],
   "metadata": {
    "trusted": true,
    "execution": {
     "iopub.status.busy": "2025-08-18T09:37:48.721061Z",
     "iopub.execute_input": "2025-08-18T09:37:48.721927Z",
     "iopub.status.idle": "2025-08-18T09:37:49.550533Z",
     "shell.execute_reply.started": "2025-08-18T09:37:48.721899Z",
     "shell.execute_reply": "2025-08-18T09:37:49.549605Z"
    }
   },
   "outputs": [],
   "execution_count": null
  },
  {
   "cell_type": "code",
   "source": [
    "df2 = df[(df.num_bbox>0)].sample(100) # takes samples with bbox\n",
    "y = 3; x = 2\n",
    "plt.figure(figsize=(12.8*x, 7.2*y))\n",
    "for idx in range(x*y):\n",
    "    row = df2.iloc[idx]\n",
    "    img           = load_image(row.image_path)\n",
    "    image_height  = row.height\n",
    "    image_width   = row.width\n",
    "    with open(row.label_path) as f:\n",
    "        annot = str2annot(f.read())\n",
    "    bboxes_yolo = annot[...,1:]\n",
    "    labels      = annot[..., 0].astype(int).tolist()\n",
    "    names         = ['cots']*len(bboxes_yolo)\n",
    "    plt.subplot(y, x, idx+1)\n",
    "    plt.imshow(draw_bboxes(img = img,\n",
    "                           bboxes = bboxes_yolo, \n",
    "                           classes = names,\n",
    "                           class_ids = labels,\n",
    "                           class_name = True, \n",
    "                           colors = colors, \n",
    "                           bbox_format = 'yolo',\n",
    "                           line_thickness = 2))\n",
    "    plt.axis('OFF')\n",
    "plt.tight_layout()\n",
    "plt.show()"
   ],
   "metadata": {
    "trusted": true,
    "execution": {
     "iopub.status.busy": "2025-08-18T09:42:52.911764Z",
     "iopub.execute_input": "2025-08-18T09:42:52.912512Z",
     "iopub.status.idle": "2025-08-18T09:42:57.080672Z",
     "shell.execute_reply.started": "2025-08-18T09:42:52.912484Z",
     "shell.execute_reply": "2025-08-18T09:42:57.079117Z"
    }
   },
   "outputs": [],
   "execution_count": null
  },
  {
   "cell_type": "code",
   "source": [
    "train_files = []\n",
    "val_files   = []\n",
    "train_df = df.query(\"fold!=@FOLD\")\n",
    "valid_df = df.query(\"fold==@FOLD\")\n",
    "train_files += list(train_df.image_path.unique())\n",
    "val_files += list(valid_df.image_path.unique())\n",
    "len(train_files), len(val_files)"
   ],
   "metadata": {
    "trusted": true,
    "execution": {
     "iopub.status.busy": "2025-08-18T09:46:30.076596Z",
     "iopub.execute_input": "2025-08-18T09:46:30.077291Z",
     "iopub.status.idle": "2025-08-18T09:46:30.095511Z",
     "shell.execute_reply.started": "2025-08-18T09:46:30.077258Z",
     "shell.execute_reply": "2025-08-18T09:46:30.094639Z"
    }
   },
   "outputs": [],
   "execution_count": null
  },
  {
   "cell_type": "code",
   "source": [
    "import yaml\n",
    "\n",
    "cwd = '/working/'\n",
    "\n",
    "with open(os.path.join( cwd , 'train.txt'), 'w') as f:\n",
    "    for path in train_df.image_path.tolist():\n",
    "        f.write(path+'\\n')\n",
    "            \n",
    "with open(os.path.join(cwd , 'val.txt'), 'w') as f:\n",
    "    for path in valid_df.image_path.tolist():\n",
    "        f.write(path+'\\n')\n",
    "\n",
    "data = dict(\n",
    "    path  = '/working',\n",
    "    train =  os.path.join( cwd , 'train.txt') ,\n",
    "    val   =  os.path.join( cwd , 'val.txt' ),\n",
    "    nc    = 1,\n",
    "    names = ['cots'],\n",
    "    )\n",
    "\n",
    "with open(os.path.join( cwd , 'gbr.yaml'), 'w') as outfile:\n",
    "    yaml.dump(data, outfile, default_flow_style=False)\n",
    "\n",
    "f = open(os.path.join( cwd , 'gbr.yaml'), 'r')\n",
    "print('\\nyaml:')\n",
    "print(f.read())"
   ],
   "metadata": {
    "trusted": true,
    "execution": {
     "iopub.status.busy": "2025-08-18T09:46:32.763308Z",
     "iopub.execute_input": "2025-08-18T09:46:32.764228Z",
     "iopub.status.idle": "2025-08-18T09:46:32.774621Z",
     "shell.execute_reply.started": "2025-08-18T09:46:32.764188Z",
     "shell.execute_reply": "2025-08-18T09:46:32.773742Z"
    }
   },
   "outputs": [],
   "execution_count": null
  },
  {
   "cell_type": "code",
   "source": [
    "%%writefile /kaggle/working/hyp.yaml\n",
    "lr0: 0.01  # initial learning rate (SGD=1E-2, Adam=1E-3)\n",
    "lrf: 0.1  # final OneCycleLR learning rate (lr0 * lrf)\n",
    "momentum: 0.937  # SGD momentum/Adam beta1\n",
    "weight_decay: 0.0005  # optimizer weight decay 5e-4\n",
    "warmup_epochs: 3.0  # warmup epochs (fractions ok)\n",
    "warmup_momentum: 0.8  # warmup initial momentum\n",
    "warmup_bias_lr: 0.1  # warmup initial bias lr\n",
    "box: 0.05  # box loss gain\n",
    "cls: 0.5  # cls loss gain\n",
    "cls_pw: 1.0  # cls BCELoss positive_weight\n",
    "obj: 1.0  # obj loss gain (scale with pixels)\n",
    "obj_pw: 1.0  # obj BCELoss positive_weight\n",
    "iou_t: 0.20  # IoU training threshold\n",
    "anchor_t: 4.0  # anchor-multiple threshold\n",
    "# anchors: 3  # anchors per output layer (0 to ignore)\n",
    "fl_gamma: 0.0  # focal loss gamma (efficientDet default gamma=1.5)\n",
    "hsv_h: 0.015  # image HSV-Hue augmentation (fraction)\n",
    "hsv_s: 0.7  # image HSV-Saturation augmentation (fraction)\n",
    "hsv_v: 0.4  # image HSV-Value augmentation (fraction)\n",
    "degrees: 0.0  # image rotation (+/- deg)\n",
    "translate: 0.10  # image translation (+/- fraction)\n",
    "scale: 0.5  # image scale (+/- gain)\n",
    "shear: 0.0  # image shear (+/- deg)\n",
    "perspective: 0.0  # image perspective (+/- fraction), range 0-0.001\n",
    "flipud: 0.5  # image flip up-down (probability)\n",
    "fliplr: 0.5  # image flip left-right (probability)\n",
    "mosaic: 0.5  # image mosaic (probability)\n",
    "mixup: 0.5 # image mixup (probability)\n",
    "copy_paste: 0.0  # segment copy-paste (probability)"
   ],
   "metadata": {
    "trusted": true,
    "execution": {
     "iopub.status.busy": "2025-08-18T09:46:35.899311Z",
     "iopub.execute_input": "2025-08-18T09:46:35.899667Z",
     "iopub.status.idle": "2025-08-18T09:46:35.906066Z",
     "shell.execute_reply.started": "2025-08-18T09:46:35.899641Z",
     "shell.execute_reply": "2025-08-18T09:46:35.905118Z"
    }
   },
   "outputs": [],
   "execution_count": null
  },
  {
   "cell_type": "code",
   "source": [
    "!git clone https://github.com/awsaf49/yolov5-wandb.git yolov5 # clone\n",
    "%cd yolov5\n",
    "%pip install -qr requirements.txt  # install\n",
    "\n",
    "import torch\n",
    "import utils\n",
    "display = utils.notebook_init()  # checks"
   ],
   "metadata": {
    "trusted": true,
    "execution": {
     "iopub.status.busy": "2025-08-18T09:46:39.146425Z",
     "iopub.execute_input": "2025-08-18T09:46:39.146809Z",
     "iopub.status.idle": "2025-08-18T09:46:54.619000Z",
     "shell.execute_reply.started": "2025-08-18T09:46:39.146782Z",
     "shell.execute_reply": "2025-08-18T09:46:54.618035Z"
    }
   },
   "outputs": [],
   "execution_count": null
  },
  {
   "cell_type": "code",
   "source": [
    "!python train.py --img {DIM}\\\n",
    "--batch {BATCH}\\\n",
    "--epochs {EPOCHS}\\\n",
    "--optimizer {OPTMIZER}\\\n",
    "--data /kaggle/working/gbr.yaml\\\n",
    "--hyp /kaggle/working/hyp.yaml\\\n",
    "--weights {MODEL}.pt\\\n",
    "--project {PROJECT} --name {NAME} --entity ml-colabs\\\n",
    "--exist-ok"
   ],
   "metadata": {
    "trusted": true,
    "execution": {
     "iopub.status.busy": "2025-08-18T09:52:18.748891Z",
     "iopub.execute_input": "2025-08-18T09:52:18.749805Z",
     "iopub.status.idle": "2025-08-18T10:18:45.609292Z",
     "shell.execute_reply.started": "2025-08-18T09:52:18.749774Z",
     "shell.execute_reply": "2025-08-18T10:18:45.607385Z"
    }
   },
   "outputs": [],
   "execution_count": null
  },
  {
   "cell_type": "code",
   "source": [
    "OUTPUT_DIR = '{}/{}'.format(PROJECT, NAME)\n",
    "!ls {OUTPUT_DIR}"
   ],
   "metadata": {},
   "outputs": [],
   "execution_count": null
  },
  {
   "cell_type": "code",
   "source": [
    "plt.figure(figsize = (10,10))\n",
    "plt.axis('off')\n",
    "plt.imshow(plt.imread(f'{OUTPUT_DIR}/labels_correlogram.jpg'));"
   ],
   "metadata": {
    "trusted": true
   },
   "outputs": [],
   "execution_count": null
  },
  {
   "cell_type": "code",
   "source": [
    "plt.figure(figsize = (10,10))\n",
    "plt.axis('off')\n",
    "plt.imshow(plt.imread(f'{OUTPUT_DIR}/labels.jpg'));"
   ],
   "metadata": {
    "trusted": true
   },
   "outputs": [],
   "execution_count": null
  },
  {
   "cell_type": "code",
   "source": [
    "import matplotlib.pyplot as plt\n",
    "plt.figure(figsize = (10, 10))\n",
    "plt.imshow(plt.imread(f'{OUTPUT_DIR}/train_batch0.jpg'))\n",
    "\n",
    "plt.figure(figsize = (10, 10))\n",
    "plt.imshow(plt.imread(f'{OUTPUT_DIR}/train_batch1.jpg'))\n",
    "\n",
    "plt.figure(figsize = (10, 10))\n",
    "plt.imshow(plt.imread(f'{OUTPUT_DIR}/train_batch2.jpg'))"
   ],
   "metadata": {
    "trusted": true
   },
   "outputs": [],
   "execution_count": null
  },
  {
   "cell_type": "code",
   "source": [
    "fig, ax = plt.subplots(3, 2, figsize = (2*9,3*5), constrained_layout = True)\n",
    "for row in range(3):\n",
    "    ax[row][0].imshow(plt.imread(f'{OUTPUT_DIR}/val_batch{row}_labels.jpg'))\n",
    "    ax[row][0].set_xticks([])\n",
    "    ax[row][0].set_yticks([])\n",
    "    ax[row][0].set_title(f'{OUTPUT_DIR}/val_batch{row}_labels.jpg', fontsize = 12)\n",
    "    \n",
    "    ax[row][1].imshow(plt.imread(f'{OUTPUT_DIR}/val_batch{row}_pred.jpg'))\n",
    "    ax[row][1].set_xticks([])\n",
    "    ax[row][1].set_yticks([])\n",
    "    ax[row][1].set_title(f'{OUTPUT_DIR}/val_batch{row}_pred.jpg', fontsize = 12)\n",
    "plt.show()"
   ],
   "metadata": {
    "trusted": true
   },
   "outputs": [],
   "execution_count": null
  },
  {
   "cell_type": "code",
   "source": [
    "plt.figure(figsize=(30,15))\n",
    "plt.axis('off')\n",
    "plt.imshow(plt.imread(f'{OUTPUT_DIR}/results.png'));"
   ],
   "metadata": {
    "trusted": true
   },
   "outputs": [],
   "execution_count": null
  },
  {
   "cell_type": "code",
   "source": [
    "plt.figure(figsize=(12,10))\n",
    "plt.axis('off')\n",
    "plt.imshow(plt.imread(f'{OUTPUT_DIR}/confusion_matrix.png'));"
   ],
   "metadata": {
    "trusted": true
   },
   "outputs": [],
   "execution_count": null
  },
  {
   "cell_type": "code",
   "source": [
    "for metric in ['F1', 'PR', 'P', 'R']:\n",
    "    print(f'Metric: {metric}')\n",
    "    plt.figure(figsize=(12,10))\n",
    "    plt.axis('off')\n",
    "    plt.imshow(plt.imread(f'{OUTPUT_DIR}/{metric}_curve.png'));\n",
    "    plt.show()"
   ],
   "metadata": {
    "trusted": true
   },
   "outputs": [],
   "execution_count": null
  },
  {
   "cell_type": "code",
   "source": [
    "image_files = [\n",
    "    f'{OUTPUT_DIR}/labels_correlogram.jpg',\n",
    "    f'{OUTPUT_DIR}/labels.jpg',\n",
    "    f'{OUTPUT_DIR}/train_batch0.jpg',\n",
    "    f'{OUTPUT_DIR}/train_batch1.jpg',\n",
    "    f'{OUTPUT_DIR}/train_batch2.jpg',\n",
    "    f'{OUTPUT_DIR}/val_batch0_labels.jpg',\n",
    "    f'{OUTPUT_DIR}/val_batch0_pred.jpg',\n",
    "    f'{OUTPUT_DIR}/val_batch1_labels.jpg',\n",
    "    f'{OUTPUT_DIR}/val_batch1_pred.jpg',\n",
    "    f'{OUTPUT_DIR}/val_batch2_labels.jpg',\n",
    "    f'{OUTPUT_DIR}/val_batch2_pred.jpg',\n",
    "    f'{OUTPUT_DIR}/results.png',\n",
    "    f'{OUTPUT_DIR}/confusion_matrix.png',\n",
    "    f'{OUTPUT_DIR}/F1_curve.png',\n",
    "    f'{OUTPUT_DIR}/PR_curve.png',\n",
    "    f'{OUTPUT_DIR}/P_curve.png',\n",
    "    f'{OUTPUT_DIR}/R_curve.png'\n",
    "]"
   ],
   "metadata": {
    "trusted": true
   },
   "outputs": [],
   "execution_count": null
  },
  {
   "cell_type": "code",
   "source": [
    "# Set common dimensions\n",
    "common_width = 1280\n",
    "common_height = 720"
   ],
   "metadata": {
    "trusted": true
   },
   "outputs": [],
   "execution_count": null
  },
  {
   "cell_type": "code",
   "source": [
    "video_path = '/working/training_results.mp4'\n",
    "fourcc = cv2.VideoWriter_fourcc(*'mp4v')\n",
    "video = cv2.VideoWriter(video_path, fourcc, 1, (common_width, common_height))  # 1 fps"
   ],
   "metadata": {
    "trusted": true
   },
   "outputs": [],
   "execution_count": null
  },
  {
   "cell_type": "code",
   "source": [
    "for file in image_files:\n",
    "    img = cv2.imread(file)\n",
    "    if img is not None:\n",
    "        img_resized = cv2.resize(img, (common_width, common_height))\n",
    "        video.write(img_resized)"
   ],
   "metadata": {
    "trusted": true
   },
   "outputs": [],
   "execution_count": null
  },
  {
   "cell_type": "code",
   "source": [
    "video.release()\n",
    "print(f\"Video saved at {video_path}\")\n",
    "display(Video(video_path, embed=True))"
   ],
   "metadata": {
    "trusted": true
   },
   "outputs": [],
   "execution_count": null
  },
  {
   "cell_type": "code",
   "source": [
    "!rm -r {IMAGE_DIR}\n",
    "!rm -r {LABEL_DIR}"
   ],
   "metadata": {
    "trusted": true
   },
   "outputs": [],
   "execution_count": null
  }
 ]
}
